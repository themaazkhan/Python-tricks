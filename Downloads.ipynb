{
 "cells": [
  {
   "cell_type": "markdown",
   "id": "cc2fbe2d",
   "metadata": {},
   "source": [
    "# Count the number of digits in a Number in Python"
   ]
  },
  {
   "cell_type": "code",
   "execution_count": 1,
   "id": "5ff9629e",
   "metadata": {},
   "outputs": [
    {
     "name": "stdout",
     "output_type": "stream",
     "text": [
      "56\n",
      "2\n"
     ]
    }
   ],
   "source": [
    "n = int(input())\n",
    "count = 0\n",
    "while n > 0:\n",
    "    n = n // 10\n",
    "    count = count + 1\n",
    "print(count)"
   ]
  },
  {
   "cell_type": "markdown",
   "id": "6d5e9caa",
   "metadata": {},
   "source": [
    "# Find given number is a digit in a number using Python"
   ]
  },
  {
   "cell_type": "code",
   "execution_count": 3,
   "id": "85933ad0",
   "metadata": {},
   "outputs": [
    {
     "name": "stdout",
     "output_type": "stream",
     "text": [
      "Enter the number: 234\n",
      "Enter a digit: 255\n",
      "255 is not occured in 234\n"
     ]
    }
   ],
   "source": [
    "num = int(input(\"Enter the number: \"))\n",
    "digit = int(input(\"Enter a digit: \"))\n",
    "count = 0\n",
    "n = num\n",
    "while n != 0:\n",
    "    rem = n % 10\n",
    "    if rem == digit:\n",
    "        print(\"{} is occured in {}\".format (digit, num))\n",
    "        break\n",
    "    n = n // 10\n",
    "else:\n",
    "    print(\"{} is not occured in {}\".format (digit, num))"
   ]
  },
  {
   "cell_type": "markdown",
   "id": "23e45d17",
   "metadata": {},
   "source": [
    "# Count the Number of Occurrences of digit in a number using Python"
   ]
  },
  {
   "cell_type": "code",
   "execution_count": 8,
   "id": "714904d9",
   "metadata": {},
   "outputs": [
    {
     "name": "stdout",
     "output_type": "stream",
     "text": [
      "Enter the number: 2434\n",
      "Enter a digit: 5\n",
      "5 occured 0 times in 2434\n",
      "5 occured 0 times in 2434\n",
      "5 occured 0 times in 2434\n",
      "5 occured 0 times in 2434\n",
      "5 not occured 0 times in 2434\n"
     ]
    }
   ],
   "source": [
    "num = int(input(\"Enter the number: \"))\n",
    "digit = int(input(\"Enter a digit: \"))\n",
    "count = 0\n",
    "n = num\n",
    "while n != 0:\n",
    "    rem = n % 10\n",
    "    if rem == digit:\n",
    "        count += 1\n",
    "    n = n // 10\n",
    "    print(\"{} occured {} times in {}\".format (digit, count, num))\n",
    "else:\n",
    "    print(\"{} not occured {} times in {}\".format (digit, count, num))"
   ]
  },
  {
   "cell_type": "markdown",
   "id": "62aa894a",
   "metadata": {},
   "source": [
    "# Print the first Digit of a Number using Python"
   ]
  },
  {
   "cell_type": "code",
   "execution_count": 9,
   "id": "fc9d8692",
   "metadata": {},
   "outputs": [
    {
     "name": "stdout",
     "output_type": "stream",
     "text": [
      "enter a number55\n",
      "5 is the first digit of 55\n"
     ]
    }
   ],
   "source": [
    "num = int(input(\"enter a number\"))\n",
    "n = num\n",
    "while n > 10:\n",
    "    n = n // 10\n",
    "print(\"{} is the first digit of {}\".format(n,num))"
   ]
  },
  {
   "cell_type": "markdown",
   "id": "e21b3ba3",
   "metadata": {},
   "source": [
    "# Sum of Digits of the number using Python"
   ]
  },
  {
   "cell_type": "code",
   "execution_count": 10,
   "id": "d143e9c9",
   "metadata": {},
   "outputs": [
    {
     "name": "stdout",
     "output_type": "stream",
     "text": [
      "enter a number5555\n",
      "20\n"
     ]
    }
   ],
   "source": [
    "num = int(input(\"enter a number\"))\n",
    "n = num\n",
    "total = 0\n",
    "while n != 0:\n",
    "    rem = n % 10\n",
    "    total = total + rem\n",
    "    n = n // 10\n",
    "print(total)"
   ]
  },
  {
   "cell_type": "markdown",
   "id": "56dc80a7",
   "metadata": {},
   "source": [
    "# Product of Digits of the number using Python"
   ]
  },
  {
   "cell_type": "code",
   "execution_count": 11,
   "id": "d9306b98",
   "metadata": {},
   "outputs": [
    {
     "name": "stdout",
     "output_type": "stream",
     "text": [
      "enter a number45689\n",
      "8640\n"
     ]
    }
   ],
   "source": [
    "num = int(input(\"enter a number\"))\n",
    "n = num\n",
    "product = 1\n",
    "while n != 0:\n",
    "    rem = n % 10\n",
    "    product = product * rem\n",
    "    n = n // 10\n",
    "print(product)"
   ]
  },
  {
   "cell_type": "markdown",
   "id": "a406a4b3",
   "metadata": {},
   "source": [
    "# Reverse the digits of a number using Python"
   ]
  },
  {
   "cell_type": "code",
   "execution_count": 12,
   "id": "4ca9dee5",
   "metadata": {},
   "outputs": [
    {
     "name": "stdout",
     "output_type": "stream",
     "text": [
      "enter a number985462\n",
      "264589 is reverse of 985462\n"
     ]
    }
   ],
   "source": [
    "num = int(input(\"enter a number\"))\n",
    "n = num\n",
    "reverse = 0\n",
    "while n != 0:\n",
    "    rem = n % 10\n",
    "    reverse = reverse * 10 + rem\n",
    "    n = n // 10\n",
    "print(\"{} is reverse of {}\".format(reverse,num))"
   ]
  },
  {
   "cell_type": "markdown",
   "id": "71e7333e",
   "metadata": {},
   "source": [
    "# Find a number is Armstrong number or not using Python"
   ]
  },
  {
   "cell_type": "code",
   "execution_count": 13,
   "id": "e9aaaee6",
   "metadata": {},
   "outputs": [
    {
     "name": "stdout",
     "output_type": "stream",
     "text": [
      "enter a number102\n",
      "Not an Armstrong number\n"
     ]
    }
   ],
   "source": [
    "num = int(input(\"enter a number\"))\n",
    "n = num\n",
    "count = 0\n",
    "while n != 0:\n",
    "    count = count + 1\n",
    "    n = n // 10\n",
    "n = num\n",
    "total = 0\n",
    "while n!= 0:\n",
    "    rem = n % 10\n",
    "    total = total + (rem**count)\n",
    "    n = n // 10\n",
    "if num == total:\n",
    "    print(\"Armstrong number\")\n",
    "else:\n",
    "    print(\"Not an Armstrong number\")"
   ]
  },
  {
   "cell_type": "code",
   "execution_count": null,
   "id": "3353c8b1",
   "metadata": {},
   "outputs": [],
   "source": []
  }
 ],
 "metadata": {
  "kernelspec": {
   "display_name": "Python 3",
   "language": "python",
   "name": "python3"
  },
  "language_info": {
   "codemirror_mode": {
    "name": "ipython",
    "version": 3
   },
   "file_extension": ".py",
   "mimetype": "text/x-python",
   "name": "python",
   "nbconvert_exporter": "python",
   "pygments_lexer": "ipython3",
   "version": "3.8.8"
  }
 },
 "nbformat": 4,
 "nbformat_minor": 5
}
